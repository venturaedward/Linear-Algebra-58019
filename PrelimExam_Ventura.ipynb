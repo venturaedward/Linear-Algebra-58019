{
  "nbformat": 4,
  "nbformat_minor": 0,
  "metadata": {
    "colab": {
      "provenance": [],
      "authorship_tag": "ABX9TyNyPzcmijLM9tWj9unnipTt",
      "include_colab_link": true
    },
    "kernelspec": {
      "name": "python3",
      "display_name": "Python 3"
    },
    "language_info": {
      "name": "python"
    }
  },
  "cells": [
    {
      "cell_type": "markdown",
      "metadata": {
        "id": "view-in-github",
        "colab_type": "text"
      },
      "source": [
        "<a href=\"https://colab.research.google.com/github/venturaedward/Linear-Algebra-58019/blob/main/PrelimExam_Ventura.ipynb\" target=\"_parent\"><img src=\"https://colab.research.google.com/assets/colab-badge.svg\" alt=\"Open In Colab\"/></a>"
      ]
    },
    {
      "cell_type": "markdown",
      "source": [
        "Multiplication Table"
      ],
      "metadata": {
        "id": "p1_vSt3Y1vlQ"
      }
    },
    {
      "cell_type": "code",
      "source": [
        "import numpy as np\n",
        "#multiplication table\n",
        "num1 = ([1, 2, 3, ,4 5, 6, 7, 8, 9, 10])\n",
        "num2 = ([1, 2, 3, ,4 5, 6, 7, 8, 9, 10])\n",
        "times = num1 * num2\n",
        "print(times)\n",
        "#doubles all values\n",
        "num = np.array([1, 2, 3, 4, 5, 6, 7, 8, 9, 10])\n",
        "multiply = num * num\n",
        "print(multiply)"
      ],
      "metadata": {
        "colab": {
          "base_uri": "https://localhost:8080/"
        },
        "id": "Wl58bh9K150P",
        "outputId": "11372d2f-d588-4065-fc86-69bed55b1e84"
      },
      "execution_count": 25,
      "outputs": [
        {
          "output_type": "error",
          "ename": "SyntaxError",
          "evalue": "ignored",
          "traceback": [
            "\u001b[0;36m  File \u001b[0;32m\"<ipython-input-25-d2b92a36b434>\"\u001b[0;36m, line \u001b[0;32m3\u001b[0m\n\u001b[0;31m    num1 = ([1, 2, 3, ,4 5, 6, 7, 8, 9, 10])\u001b[0m\n\u001b[0m                      ^\u001b[0m\n\u001b[0;31mSyntaxError\u001b[0m\u001b[0;31m:\u001b[0m invalid syntax\n"
          ]
        }
      ]
    },
    {
      "cell_type": "code",
      "source": [
        "#Question 1\n",
        "import numpy as np\n",
        "#multiplication table\n",
        "num1 = np.array([1, 2, 3, 4, 5, 6, 7, 8, 9, 10])\n",
        "num2 = np.array([1, 2, 3, 4, 5, 6, 7, 8, 9, 10])\n",
        "times = num1 * num2\n",
        "print(times)\n"
      ],
      "metadata": {
        "colab": {
          "base_uri": "https://localhost:8080/"
        },
        "id": "rXrdENr4498I",
        "outputId": "43cb2c14-e013-4c99-c91a-83ef794f8521"
      },
      "execution_count": 12,
      "outputs": [
        {
          "output_type": "stream",
          "name": "stdout",
          "text": [
            "[  1   4   9  16  25  36  49  64  81 100]\n"
          ]
        }
      ]
    },
    {
      "cell_type": "code",
      "source": [
        "#Question 2\n",
        "import numpy as np\n",
        "num = np.array([1, 2, 3, 4, 5, 6, 7, 8, 9, 10])\n",
        "multiply = num * num\n",
        "print(multiply)"
      ],
      "metadata": {
        "id": "ZBE0Mdma57wh",
        "outputId": "cb7951a7-7b0e-499a-9ef5-fdbc01548088",
        "colab": {
          "base_uri": "https://localhost:8080/"
        }
      },
      "execution_count": 13,
      "outputs": [
        {
          "output_type": "stream",
          "name": "stdout",
          "text": [
            "[  1   4   9  16  25  36  49  64  81 100]\n"
          ]
        }
      ]
    },
    {
      "cell_type": "code",
      "source": [
        "#Question 3\n",
        "import numpy as np\n",
        "\n",
        "ones = np.array([1,1,1,1])\n",
        "diagonal = np.diag(ones)\n",
        "\n",
        "print(diagonal)"
      ],
      "metadata": {
        "id": "loYzP2yG6ZX8",
        "outputId": "84632106-2c27-4689-ba46-11cb345dcf7e",
        "colab": {
          "base_uri": "https://localhost:8080/"
        }
      },
      "execution_count": 21,
      "outputs": [
        {
          "output_type": "stream",
          "name": "stdout",
          "text": [
            "[[1 0 0 0]\n",
            " [0 1 0 0]\n",
            " [0 0 1 0]\n",
            " [0 0 0 1]]\n"
          ]
        }
      ]
    },
    {
      "cell_type": "code",
      "source": [
        "#Question 4"
      ],
      "metadata": {
        "id": "sOE_FXFo8Jr4"
      },
      "execution_count": null,
      "outputs": []
    },
    {
      "cell_type": "code",
      "source": [
        "import numpy as np\n",
        "\n",
        "matrix = np.array([[1, 2, 3, 4],\n",
        "                   [5, 6, 7, 8],\n",
        "                   [9, 10, 11, 12]])\n",
        "len =len([[1, 2, 3, 4],\n",
        "          [5, 6, 7, 8],\n",
        "          [9, 10, 11, 12]])\n",
        "\n",
        "print(matrix)\n",
        "print(len)"
      ],
      "metadata": {
        "id": "g4DZgjVi8Lyc",
        "outputId": "672e1a19-06e0-42b5-cfdd-2e8370e88814",
        "colab": {
          "base_uri": "https://localhost:8080/"
        }
      },
      "execution_count": 36,
      "outputs": [
        {
          "output_type": "error",
          "ename": "TypeError",
          "evalue": "ignored",
          "traceback": [
            "\u001b[0;31m---------------------------------------------------------------------------\u001b[0m",
            "\u001b[0;31mTypeError\u001b[0m                                 Traceback (most recent call last)",
            "\u001b[0;32m<ipython-input-36-ef61703a4586>\u001b[0m in \u001b[0;36m<cell line: 6>\u001b[0;34m()\u001b[0m\n\u001b[1;32m      4\u001b[0m                    \u001b[0;34m[\u001b[0m\u001b[0;36m5\u001b[0m\u001b[0;34m,\u001b[0m \u001b[0;36m6\u001b[0m\u001b[0;34m,\u001b[0m \u001b[0;36m7\u001b[0m\u001b[0;34m,\u001b[0m \u001b[0;36m8\u001b[0m\u001b[0;34m]\u001b[0m\u001b[0;34m,\u001b[0m\u001b[0;34m\u001b[0m\u001b[0;34m\u001b[0m\u001b[0m\n\u001b[1;32m      5\u001b[0m                    [9, 10, 11, 12]])\n\u001b[0;32m----> 6\u001b[0;31m len =len([[1, 2, 3, 4],\n\u001b[0m\u001b[1;32m      7\u001b[0m           \u001b[0;34m[\u001b[0m\u001b[0;36m5\u001b[0m\u001b[0;34m,\u001b[0m \u001b[0;36m6\u001b[0m\u001b[0;34m,\u001b[0m \u001b[0;36m7\u001b[0m\u001b[0;34m,\u001b[0m \u001b[0;36m8\u001b[0m\u001b[0;34m]\u001b[0m\u001b[0;34m,\u001b[0m\u001b[0;34m\u001b[0m\u001b[0;34m\u001b[0m\u001b[0m\n\u001b[1;32m      8\u001b[0m           [9, 10, 11, 12]])\n",
            "\u001b[0;31mTypeError\u001b[0m: 'int' object is not callable"
          ]
        }
      ]
    },
    {
      "cell_type": "code",
      "source": [
        "#Question 5\n",
        "import numpy as np\n",
        "arrayOne = np.array([[5, 6, 9], [21, 18, 27]])\n",
        "arrayTwo = np.array([[15, 33, 24], [4, 7, 1]])\n",
        "\n",
        "add = arrayOne + arrayTwo\n",
        "print(add)\n",
        "\n",
        "square = add * add\n",
        "print(square)"
      ],
      "metadata": {
        "id": "881DN3O7-7yR",
        "outputId": "1b23f858-08d4-4b72-d58c-1130c28b3212",
        "colab": {
          "base_uri": "https://localhost:8080/"
        }
      },
      "execution_count": 40,
      "outputs": [
        {
          "output_type": "stream",
          "name": "stdout",
          "text": [
            "[[20 39 33]\n",
            " [25 25 28]]\n",
            "[[ 400 1521 1089]\n",
            " [ 625  625  784]]\n"
          ]
        }
      ]
    }
  ]
}